{
 "cells": [
  {
   "cell_type": "markdown",
   "metadata": {},
   "source": [
    "# To Display the Board"
   ]
  },
  {
   "cell_type": "code",
   "execution_count": 1,
   "metadata": {},
   "outputs": [],
   "source": [
    "from IPython.display import clear_output\n",
    "def display(Board):\n",
    "    clear_output()\n",
    "    print(\"\\t | \\t  |\")\n",
    "    print(\"   \",Board[7],\"\\t |   \",Board[8],\"  |   \",Board[9])\n",
    "    print(\"\\t | \\t  |\")\n",
    "    print(\"----------------------------\")\n",
    "    print(\"\\t | \\t  |\")\n",
    "    print(\"   \",Board[4],\"\\t |   \",Board[5],\"  |   \",Board[6])\n",
    "    print(\"\\t | \\t  |\")\n",
    "    print(\"----------------------------\")\n",
    "    print(\"\\t | \\t  |\")\n",
    "    print(\"   \",Board[1],\"\\t |   \",Board[2],\"  |   \",Board[3])\n",
    "    print(\"\\t | \\t  |\")"
   ]
  },
  {
   "cell_type": "markdown",
   "metadata": {},
   "source": [
    "# Take the player Input and assign their marker"
   ]
  },
  {
   "cell_type": "code",
   "execution_count": 2,
   "metadata": {},
   "outputs": [
    {
     "name": "stdout",
     "output_type": "stream",
     "text": [
      "player 1 choose X or O = \n",
      "player 1 choose X or O = x\n"
     ]
    },
    {
     "data": {
      "text/plain": [
       "('X', 'O')"
      ]
     },
     "execution_count": 2,
     "metadata": {},
     "output_type": "execute_result"
    }
   ],
   "source": [
    "def player_input():\n",
    "    marker = ' '\n",
    "    while marker != 'X' and marker != 'O':\n",
    "        marker = input(\"player 1 choose X or O = \").upper()\n",
    "    player1Marker = marker\n",
    "    if player1Marker == 'X':\n",
    "        player2Marker = 'O'\n",
    "    else:\n",
    "        player2Marker = 'X'\n",
    "    return (player1Marker, player2Marker)\n",
    "player_input()"
   ]
  },
  {
   "cell_type": "markdown",
   "metadata": {},
   "source": [
    "# Place the Marker at the specified position"
   ]
  },
  {
   "cell_type": "code",
   "execution_count": 3,
   "metadata": {},
   "outputs": [],
   "source": [
    "def place_marker(Board, marker, position):\n",
    "    Board[position] = marker"
   ]
  },
  {
   "cell_type": "markdown",
   "metadata": {},
   "source": [
    "# Check if any marker wins"
   ]
  },
  {
   "cell_type": "code",
   "execution_count": 4,
   "metadata": {},
   "outputs": [],
   "source": [
    "def check_wins(Board, Mark):\n",
    "    return((Board[1] == Mark and Board[2] == Mark and Board[3] == Mark) or  # Last Horizontal Line\n",
    "           (Board[4] == Mark and Board[5] == Mark and Board[6] == Mark) or  # Middle Horizontal Line\n",
    "           (Board[7] == Mark and Board[8] == Mark and Board[9] == Mark) or  # first Horizontal Line\n",
    "           (Board[7] == Mark and Board[4] == Mark and Board[1] == Mark) or  # first vertical line \n",
    "           (Board[8] == Mark and Board[5] == Mark and Board[2] == Mark) or  # Middle vertical line\n",
    "           (Board[9] == Mark and Board[6] == Mark and Board[3] == Mark) or  # Last vertical line\n",
    "           (Board[7] == Mark and Board[5] == Mark and Board[3] == Mark) or  # diagonal\n",
    "           (Board[9] == Mark and Board[5] == Mark and Board[1] == Mark))    # diagonal"
   ]
  },
  {
   "cell_type": "markdown",
   "metadata": {},
   "source": [
    "# choose Who's first"
   ]
  },
  {
   "cell_type": "code",
   "execution_count": 5,
   "metadata": {},
   "outputs": [],
   "source": [
    "import random\n",
    "def choose_first():\n",
    "    flip = random.randint(0,1)\n",
    "    if flip == 0:\n",
    "        return \"Player 1\"\n",
    "    else:\n",
    "        return \"Player 2\"\n"
   ]
  },
  {
   "cell_type": "markdown",
   "metadata": {},
   "source": [
    "# Check is the entered position is free or not"
   ]
  },
  {
   "cell_type": "code",
   "execution_count": 6,
   "metadata": {},
   "outputs": [
    {
     "data": {
      "text/plain": [
       "False"
      ]
     },
     "execution_count": 6,
     "metadata": {},
     "output_type": "execute_result"
    }
   ],
   "source": [
    "def check_space(Board, position):\n",
    "    return Board[position] == \" \"\n",
    "check_space([\"#\",\"X\",\"O\",\"X\",\"O\",\"X\",\"O\",\"X\",\"O\",\"X\"], 4)"
   ]
  },
  {
   "cell_type": "markdown",
   "metadata": {},
   "source": [
    "# Check if the Board is full or Not"
   ]
  },
  {
   "cell_type": "code",
   "execution_count": 7,
   "metadata": {},
   "outputs": [],
   "source": [
    "def full_board_check(board):\n",
    "    for i in range(1, 10):\n",
    "        if check_space(board, i):\n",
    "            return False\n",
    "    return True"
   ]
  },
  {
   "cell_type": "markdown",
   "metadata": {},
   "source": [
    "# Take a next Move from the player"
   ]
  },
  {
   "cell_type": "code",
   "execution_count": 8,
   "metadata": {},
   "outputs": [],
   "source": [
    "def player_choice(testBoard):\n",
    "    position = 0\n",
    "    while position not in [1,2,3,4,5,6,7,8,9]or not check_space(testBoard, position):\n",
    "            position = int(input(\"Please Enter the Next Move from 1 to 9 = \"))\n",
    "            \n",
    "    return position"
   ]
  },
  {
   "cell_type": "markdown",
   "metadata": {},
   "source": [
    "# Ask the player to play again"
   ]
  },
  {
   "cell_type": "code",
   "execution_count": 9,
   "metadata": {},
   "outputs": [],
   "source": [
    "def replay():\n",
    "    choice = input(\"Do you want to play Again? Enter yes or No\").upper()\n",
    "    if choice == \"NO\":\n",
    "        print(\"Thank you\")\n",
    "    return choice == \"YES\""
   ]
  },
  {
   "cell_type": "markdown",
   "metadata": {},
   "source": [
    "# Main File"
   ]
  },
  {
   "cell_type": "code",
   "execution_count": 10,
   "metadata": {},
   "outputs": [
    {
     "name": "stdout",
     "output_type": "stream",
     "text": [
      "\t | \t  |\n",
      "    O \t |        |    X\n",
      "\t | \t  |\n",
      "----------------------------\n",
      "\t | \t  |\n",
      "      \t |    X   |    O\n",
      "\t | \t  |\n",
      "----------------------------\n",
      "\t | \t  |\n",
      "    X \t |    O   |    X\n",
      "\t | \t  |\n",
      "Player 1  won the Game!!!\n",
      "Do you want to play Again? Enter yes or Nono\n",
      "Thank you\n"
     ]
    }
   ],
   "source": [
    "print(\"Welcome to Tic Tac Toe !!!!!!!!\")\n",
    "while True:\n",
    "    theBoard = [\" \"]*10\n",
    "    player1Marker, player2Marker = player_input()\n",
    "    turn = choose_first()\n",
    "    print(turn ,\" will go First\")\n",
    "    play_game = input(\"Ready To Play?Enter Yes or No+ \").upper()\n",
    "    if play_game == \"YES\":\n",
    "        game_on = True\n",
    "    else:\n",
    "        game_on = False\n",
    "    \n",
    "    while game_on:\n",
    "        if turn == \"Player 1\":\n",
    "            display(theBoard)\n",
    "            position = player_choice(theBoard)\n",
    "            print(place_marker(theBoard,player1Marker,position))\n",
    "            display(theBoard)\n",
    "            if check_wins(theBoard,player1Marker):\n",
    "                display(theBoard)\n",
    "                print(turn,\" won the Game!!!\")\n",
    "                game_on = False\n",
    "            else:\n",
    "                if full_board_check(theBoard):\n",
    "                    display(theBoard)\n",
    "                    print(\"Tie Game\")\n",
    "                    game_on = False\n",
    "                else:\n",
    "                    turn = \"Player 2\"\n",
    "        else:\n",
    "            display(theBoard)\n",
    "            position = player_choice(theBoard)\n",
    "            place_marker(theBoard,player2Marker,position)\n",
    "            display(theBoard)\n",
    "            if check_wins(theBoard,player2Marker):\n",
    "                display(theBoard)\n",
    "                print(turn,\" won the Game!!!\")\n",
    "                game_on = False\n",
    "            else:\n",
    "                if full_board_check(theBoard):\n",
    "                    display(theBoard)\n",
    "                    print(\"Tie Game\")\n",
    "                    game_on = False\n",
    "                else:\n",
    "                    turn = \"Player 1\"\n",
    "    if not replay():\n",
    "            break\n"
   ]
  },
  {
   "cell_type": "code",
   "execution_count": null,
   "metadata": {},
   "outputs": [],
   "source": []
  }
 ],
 "metadata": {
  "kernelspec": {
   "display_name": "Python 3",
   "language": "python",
   "name": "python3"
  },
  "language_info": {
   "codemirror_mode": {
    "name": "ipython",
    "version": 3
   },
   "file_extension": ".py",
   "mimetype": "text/x-python",
   "name": "python",
   "nbconvert_exporter": "python",
   "pygments_lexer": "ipython3",
   "version": "3.7.4"
  }
 },
 "nbformat": 4,
 "nbformat_minor": 2
}
